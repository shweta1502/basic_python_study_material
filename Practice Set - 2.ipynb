{
 "cells": [
  {
   "cell_type": "markdown",
   "metadata": {},
   "source": [
    "## Q1. Take a User Input and Print the Fibonacci Series until that number"
   ]
  },
  {
   "cell_type": "raw",
   "metadata": {},
   "source": [
    "Hint: Input-> 2\n",
    "       Output-> 0 1 2"
   ]
  },
  {
   "cell_type": "markdown",
   "metadata": {},
   "source": [
    "## Q2. Take a User Input and find the Cumulative sum until that number"
   ]
  },
  {
   "cell_type": "raw",
   "metadata": {},
   "source": [
    "Hint: Input->5\n",
    "        Output->1+2+3+4+5 = 15"
   ]
  },
  {
   "cell_type": "markdown",
   "metadata": {},
   "source": [
    "## Q3. Take a User Input and find the factorial of that number"
   ]
  },
  {
   "cell_type": "raw",
   "metadata": {},
   "source": [
    "Hint: Input->5\n",
    "       Output-> 1*2*3*4*5 = 120"
   ]
  },
  {
   "cell_type": "markdown",
   "metadata": {},
   "source": [
    "## Q4. Take a User Input and rerurn the Inverse of that number"
   ]
  },
  {
   "cell_type": "raw",
   "metadata": {},
   "source": [
    "Hint: Input->5\n",
    "      Output->1/5"
   ]
  },
  {
   "cell_type": "markdown",
   "metadata": {},
   "source": [
    "## Q5. Take User's Name as Input and Greet that User"
   ]
  },
  {
   "cell_type": "raw",
   "metadata": {},
   "source": [
    "Hint: Input-> Roshan\n",
    "       Output-> Hi Roshan!, Hope your Day is good."
   ]
  },
  {
   "cell_type": "markdown",
   "metadata": {},
   "source": [
    "## Q6. Clean the String: $ 50 M to 50"
   ]
  },
  {
   "cell_type": "raw",
   "metadata": {},
   "source": [
    "Hint: Input-> String: '$ 50 M'\n",
    "      Output-> Number: 50"
   ]
  },
  {
   "cell_type": "markdown",
   "metadata": {},
   "source": [
    "## Q7. Take First Name, Middle Name and Last Name from the User and Return the Full Name"
   ]
  },
  {
   "cell_type": "raw",
   "metadata": {},
   "source": [
    "Hint: Input1-> Amar\n",
    "      Input2-> Singh\n",
    "      Input3-> Chouhan\n",
    "      Output-> Amar Singh Chouhan"
   ]
  },
  {
   "cell_type": "markdown",
   "metadata": {},
   "source": [
    "## Q8. Take a List and Compute the Sum, Average, Standard deviation, median, maximum and minimum values"
   ]
  },
  {
   "cell_type": "raw",
   "metadata": {},
   "source": [
    "Hint: Input-> [2, 5, 8, 8, 9, 7, 4]\n",
    "      Output-> Sum: 43\n",
    "               Average: 43/7\n",
    "               Standard Deviation: ?\n",
    "               Median: 7\n",
    "               Max: 9\n",
    "               Min: 2"
   ]
  },
  {
   "cell_type": "markdown",
   "metadata": {},
   "source": [
    "## Q9. Take a Number and check whether a number is Prime or not"
   ]
  },
  {
   "cell_type": "raw",
   "metadata": {},
   "source": [
    "Hint: Input->9\n",
    "      Output-> Not Prime\n",
    "      Input->11\n",
    "      Output->Prime"
   ]
  },
  {
   "cell_type": "markdown",
   "metadata": {},
   "source": [
    "## Q10. Take a Number and Return the Table of that Number\n"
   ]
  },
  {
   "cell_type": "raw",
   "metadata": {},
   "source": [
    "Hint: Input->2\n",
    "      Output-> 2, 4, 6, 8, 10, 12, 14, 16, 18, 20"
   ]
  },
  {
   "cell_type": "code",
   "execution_count": null,
   "metadata": {},
   "outputs": [],
   "source": []
  }
 ],
 "metadata": {
  "kernelspec": {
   "display_name": "Python 3.6.8 64-bit",
   "language": "python",
   "name": "python36864bitb30447ac08d440fda9fe09c7a490d9f6"
  },
  "language_info": {
   "codemirror_mode": {
    "name": "ipython",
    "version": 3
   },
   "file_extension": ".py",
   "mimetype": "text/x-python",
   "name": "python",
   "nbconvert_exporter": "python",
   "pygments_lexer": "ipython3",
   "version": "3.6.8"
  }
 },
 "nbformat": 4,
 "nbformat_minor": 4
}
